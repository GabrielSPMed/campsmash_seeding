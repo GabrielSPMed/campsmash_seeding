{
 "cells": [
  {
   "cell_type": "code",
   "execution_count": 1,
   "id": "b5a42ab1",
   "metadata": {},
   "outputs": [],
   "source": [
    "from clustering_methods import *\n",
    "from setup_methods import *\n",
    "from randomizing_methods import *\n",
    "from printing_methods import *\n",
    "import math\n",
    "import numpy as np"
   ]
  },
  {
   "cell_type": "code",
   "execution_count": 2,
   "id": "9d8d6bb6",
   "metadata": {},
   "outputs": [
    {
     "name": "stdout",
     "output_type": "stream",
     "text": [
      "Jogadores nao identificados: ['Dan', 'Tithi']\n"
     ]
    }
   ],
   "source": [
    "df, att, missing = setup_clustering()"
   ]
  },
  {
   "cell_type": "code",
   "execution_count": 3,
   "id": "2c44dcd3",
   "metadata": {},
   "outputs": [],
   "source": [
    "df = cluster_df(df, target_tiers=math.ceil(df.shape[0]/2), debug=False)"
   ]
  },
  {
   "cell_type": "code",
   "execution_count": 4,
   "id": "4c65d9c0",
   "metadata": {},
   "outputs": [],
   "source": [
    "df = randomize_df(df, 500, missing=missing)"
   ]
  },
  {
   "cell_type": "code",
   "execution_count": 5,
   "id": "2be77f25",
   "metadata": {},
   "outputs": [
    {
     "name": "stdout",
     "output_type": "stream",
     "text": [
      "\n",
      "Seed Sugerida\n",
      "\n",
      "1.@@@@@ - Tier 10\n",
      "2.SKPeter - Tier 10\n",
      "3.Holy - Tier 9\n",
      "4.Celo - Tier 8\n",
      "5.E. - Tier 8\n",
      "6.Chur - Tier 8\n",
      "7.Micro - Tier 8\n",
      "8.TOURONGA - Tier 8\n",
      "9.ploiw - Tier 8\n",
      "10.Norun - Tier 7\n",
      "11.Lith - Tier 6\n",
      "12.Tithi - Tier 5\n",
      "13.digao - Tier 5\n",
      "14.Miduz - Tier 5\n",
      "15.Dan - Tier 5\n",
      "16.Alface - Tier 4\n",
      "17.Vitor Pimenta - Tier 3\n",
      "18.M@rcio - Tier 3\n"
     ]
    }
   ],
   "source": [
    "print_seed(df)"
   ]
  },
  {
   "cell_type": "code",
   "execution_count": 6,
   "id": "062f2ed3",
   "metadata": {},
   "outputs": [
    {
     "name": "stdout",
     "output_type": "stream",
     "text": [
      "aaa\n"
     ]
    }
   ],
   "source": [
    "if missing:\n",
    "    print('aaa')"
   ]
  },
  {
   "cell_type": "code",
   "execution_count": 130,
   "id": "8bc1b335",
   "metadata": {},
   "outputs": [
    {
     "data": {
      "text/plain": [
       "10"
      ]
     },
     "execution_count": 130,
     "metadata": {},
     "output_type": "execute_result"
    }
   ],
   "source": [
    "df.iloc[0, 2]"
   ]
  },
  {
   "cell_type": "code",
   "execution_count": 117,
   "id": "ca48a7c4",
   "metadata": {},
   "outputs": [
    {
     "data": {
      "text/plain": [
       "0"
      ]
     },
     "execution_count": 117,
     "metadata": {},
     "output_type": "execute_result"
    }
   ],
   "source": [
    "df[df.Tier==tier].head(1).reset_index(drop=True).Points[0] - df[df.Tier==tier].head(1).reset_index(drop=True).Points[0]"
   ]
  },
  {
   "cell_type": "code",
   "execution_count": 116,
   "id": "5172e6fa",
   "metadata": {},
   "outputs": [
    {
     "data": {
      "text/plain": [
       "17    1128\n",
       "Name: Points, dtype: int64"
      ]
     },
     "execution_count": 116,
     "metadata": {},
     "output_type": "execute_result"
    }
   ],
   "source": [
    "df[df.Tier==tier].head(1).Points"
   ]
  },
  {
   "cell_type": "code",
   "execution_count": 136,
   "id": "71677c8f",
   "metadata": {},
   "outputs": [
    {
     "data": {
      "text/plain": [
       "4995"
      ]
     },
     "execution_count": 136,
     "metadata": {},
     "output_type": "execute_result"
    }
   ],
   "source": [
    "df[df.Tier==8].iloc[-1, 1]"
   ]
  },
  {
   "cell_type": "code",
   "execution_count": 161,
   "id": "f4c19b96",
   "metadata": {},
   "outputs": [
    {
     "data": {
      "text/plain": [
       "(7, 111)"
      ]
     },
     "execution_count": 161,
     "metadata": {},
     "output_type": "execute_result"
    }
   ],
   "source": [
    "find_largest_diff(df[df.Tier==8])"
   ]
  },
  {
   "cell_type": "code",
   "execution_count": null,
   "id": "19b5e008",
   "metadata": {},
   "outputs": [],
   "source": [
    "variance = 500\n",
    "n_tiers = 0\n",
    "debug=False\n",
    "\n",
    "\n",
    "if __name__ == '__main__':\n",
    "    df, att, missing = setup_clustering()\n",
    "    if n_tiers==0:\n",
    "        n_tiers=math.ceil(df.shape[0]/2)\n",
    "    df = cluster_df(df, target_tiers=n_tiers, debug=debug)\n",
    "    df = randomize_df(df, variance, missing=missing)\n",
    "    print_seed(df)"
   ]
  }
 ],
 "metadata": {
  "kernelspec": {
   "display_name": "Python 3 (ipykernel)",
   "language": "python",
   "name": "python3"
  },
  "language_info": {
   "codemirror_mode": {
    "name": "ipython",
    "version": 3
   },
   "file_extension": ".py",
   "mimetype": "text/x-python",
   "name": "python",
   "nbconvert_exporter": "python",
   "pygments_lexer": "ipython3",
   "version": "3.9.7"
  }
 },
 "nbformat": 4,
 "nbformat_minor": 5
}
